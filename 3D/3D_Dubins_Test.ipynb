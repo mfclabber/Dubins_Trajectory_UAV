{
 "cells": [
  {
   "cell_type": "code",
   "execution_count": 2,
   "metadata": {},
   "outputs": [
    {
     "name": "stderr",
     "output_type": "stream",
     "text": [
      "C:\\Users\\Dmitriy Novichkov\\AppData\\Local\\Temp\\ipykernel_8492\\4080754483.py:16: FutureWarning: this method is deprecated in favour of `Styler.hide(axis=\"index\")`\n",
      "  display(data.head().style.hide_index())\n"
     ]
    },
    {
     "data": {
      "text/html": [
       "<style type=\"text/css\">\n",
       "</style>\n",
       "<table id=\"T_0c08b\">\n",
       "  <thead>\n",
       "    <tr>\n",
       "      <th id=\"T_0c08b_level0_col0\" class=\"col_heading level0 col0\" ></th>\n",
       "      <th id=\"T_0c08b_level0_col1\" class=\"col_heading level0 col1\" colspan=\"2\">Трасса 1</th>\n",
       "      <th id=\"T_0c08b_level0_col3\" class=\"col_heading level0 col3\" colspan=\"2\">Трасса 2</th>\n",
       "    </tr>\n",
       "    <tr>\n",
       "      <th id=\"T_0c08b_level1_col0\" class=\"col_heading level1 col0\" >№</th>\n",
       "      <th id=\"T_0c08b_level1_col1\" class=\"col_heading level1 col1\" >Широта</th>\n",
       "      <th id=\"T_0c08b_level1_col2\" class=\"col_heading level1 col2\" >Долгота</th>\n",
       "      <th id=\"T_0c08b_level1_col3\" class=\"col_heading level1 col3\" >Широта</th>\n",
       "      <th id=\"T_0c08b_level1_col4\" class=\"col_heading level1 col4\" >Долгота</th>\n",
       "    </tr>\n",
       "  </thead>\n",
       "  <tbody>\n",
       "    <tr>\n",
       "      <td id=\"T_0c08b_row0_col0\" class=\"data row0 col0\" >1</td>\n",
       "      <td id=\"T_0c08b_row0_col1\" class=\"data row0 col1\" >56.142020</td>\n",
       "      <td id=\"T_0c08b_row0_col2\" class=\"data row0 col2\" >35.005040</td>\n",
       "      <td id=\"T_0c08b_row0_col3\" class=\"data row0 col3\" >56.141050</td>\n",
       "      <td id=\"T_0c08b_row0_col4\" class=\"data row0 col4\" >35.002670</td>\n",
       "    </tr>\n",
       "    <tr>\n",
       "      <td id=\"T_0c08b_row1_col0\" class=\"data row1 col0\" >2</td>\n",
       "      <td id=\"T_0c08b_row1_col1\" class=\"data row1 col1\" >56.144530</td>\n",
       "      <td id=\"T_0c08b_row1_col2\" class=\"data row1 col2\" >35.005360</td>\n",
       "      <td id=\"T_0c08b_row1_col3\" class=\"data row1 col3\" >56.138170</td>\n",
       "      <td id=\"T_0c08b_row1_col4\" class=\"data row1 col4\" >35.009470</td>\n",
       "    </tr>\n",
       "    <tr>\n",
       "      <td id=\"T_0c08b_row2_col0\" class=\"data row2 col0\" >3</td>\n",
       "      <td id=\"T_0c08b_row2_col1\" class=\"data row2 col1\" >56.146140</td>\n",
       "      <td id=\"T_0c08b_row2_col2\" class=\"data row2 col2\" >35.011570</td>\n",
       "      <td id=\"T_0c08b_row2_col3\" class=\"data row2 col3\" >56.140760</td>\n",
       "      <td id=\"T_0c08b_row2_col4\" class=\"data row2 col4\" >35.013690</td>\n",
       "    </tr>\n",
       "    <tr>\n",
       "      <td id=\"T_0c08b_row3_col0\" class=\"data row3 col0\" >4</td>\n",
       "      <td id=\"T_0c08b_row3_col1\" class=\"data row3 col1\" >56.142890</td>\n",
       "      <td id=\"T_0c08b_row3_col2\" class=\"data row3 col2\" >35.012490</td>\n",
       "      <td id=\"T_0c08b_row3_col3\" class=\"data row3 col3\" >56.139820</td>\n",
       "      <td id=\"T_0c08b_row3_col4\" class=\"data row3 col4\" >35.006550</td>\n",
       "    </tr>\n",
       "    <tr>\n",
       "      <td id=\"T_0c08b_row4_col0\" class=\"data row4 col0\" >5</td>\n",
       "      <td id=\"T_0c08b_row4_col1\" class=\"data row4 col1\" >56.142920</td>\n",
       "      <td id=\"T_0c08b_row4_col2\" class=\"data row4 col2\" >35.003780</td>\n",
       "      <td id=\"T_0c08b_row4_col3\" class=\"data row4 col3\" >56.141000</td>\n",
       "      <td id=\"T_0c08b_row4_col4\" class=\"data row4 col4\" >35.009380</td>\n",
       "    </tr>\n",
       "  </tbody>\n",
       "</table>\n"
      ],
      "text/plain": [
       "<pandas.io.formats.style.Styler at 0x1c3fb081d50>"
      ]
     },
     "metadata": {},
     "output_type": "display_data"
    }
   ],
   "source": [
    "import pandas as pd\n",
    "\n",
    "# Load the xlsx file\n",
    "cols = [('', '№'),\n",
    "        ('Трасса 1', 'Широта'),\n",
    "        ('Трасса 1', 'Долгота'),\n",
    "        ('Трасса 2', 'Широта'),\n",
    "        ('Трасса 2', 'Долгота')]\n",
    "\n",
    "custom_multicols = pd.MultiIndex.from_tuples(cols)\n",
    "excel_data = pd.read_excel('трасса.xlsx', header = None, names = cols, skiprows= [0] )\n",
    "\n",
    "#to Frame\n",
    "data = pd.DataFrame(excel_data)\n",
    "# Print the content\n",
    "display(data.head().style.hide_index())\n"
   ]
  },
  {
   "cell_type": "code",
   "execution_count": 3,
   "metadata": {},
   "outputs": [
    {
     "name": "stdout",
     "output_type": "stream",
     "text": [
      "[3085.3176815979073, 1781.3089940060636]\n"
     ]
    }
   ],
   "source": [
    "import numpy as np\n",
    "\n",
    "def get_cartesian(lat=None,lon=None):\n",
    "    lat, lon = np.deg2rad(lat), np.deg2rad(lon)\n",
    "    R = 6371 # radius of the earth\n",
    "    x = R * np.cos(lat) * np.cos(lon)\n",
    "    y = R * np.cos(lat) * np.sin(lon)\n",
    "    z = R * np.sin(lat)\n",
    "    return [x,y]\n",
    "print(get_cartesian(56.0,30.0))"
   ]
  },
  {
   "cell_type": "code",
   "execution_count": 4,
   "metadata": {},
   "outputs": [
    {
     "name": "stdout",
     "output_type": "stream",
     "text": [
      "116.56505117707799\n"
     ]
    }
   ],
   "source": [
    "def get_azimut(pt1, pt2):\n",
    "    x = pt2[0] - pt1[0]\n",
    "    y = pt2[1] - pt1[1]\n",
    "    df = np.rad2deg(np.arctan(abs(pt2[0] - pt1[0]) / abs(pt2[1] - pt1[1])))\n",
    "    \n",
    "    if x >= 0 and y >= 0: alp = 0\n",
    "    elif x > 0 and y < 0: alp = 180\n",
    "    elif x < 0 and y < 0: alp = 270\n",
    "    elif x < 0 and y > 0: alp = 360\n",
    "\n",
    "    return abs(alp - df)\n",
    "\n",
    "print(get_azimut([0,0],[2,-1]))\n"
   ]
  },
  {
   "cell_type": "code",
   "execution_count": 5,
   "metadata": {},
   "outputs": [
    {
     "ename": "IndentationError",
     "evalue": "expected an indented block after 'for' statement on line 68 (2800318787.py, line 69)",
     "output_type": "error",
     "traceback": [
      "\u001b[1;36m  Cell \u001b[1;32mIn[5], line 69\u001b[1;36m\u001b[0m\n\u001b[1;33m    x = data['Трасса 1']['Широта'][colum]\u001b[0m\n\u001b[1;37m    ^\u001b[0m\n\u001b[1;31mIndentationError\u001b[0m\u001b[1;31m:\u001b[0m expected an indented block after 'for' statement on line 68\n"
     ]
    }
   ],
   "source": [
    "from dubins_3Dpath_planning import*\n",
    "\n",
    "print(\"3D-Dubins Planner Start!!\")    \n",
    "\n",
    "\"\"\"\n",
    "3D-Dubins path plannner\n",
    "\n",
    "input:\n",
    "    start_x : x position of start point [m]\n",
    "    start_y : y position of start point [m]\n",
    "    start_z : z position of start point [m]\n",
    "    start_psi : heading angle of start point [rad]\n",
    "    start_gamma : flight path angle of start point [rad]\n",
    "    \n",
    "    end_x : x position of end point [m]\n",
    "    end_y : y position of end point [m]\n",
    "    end_z : z position of end point [m]\n",
    "    end_psi : heading angle of end point [rad]\n",
    "    end_gamma : flight path angle of end point [rad]\n",
    "    \n",
    "    Rmin : minimum turning radius [m]\n",
    "\n",
    "output:\n",
    "    px : x coordinates of path\n",
    "    py : y coordinates of path\n",
    "    pz : z coordinates of path\n",
    "    ppsi : heading angle of path points\n",
    "    pgamma: flight path angle of path points\n",
    "    mode : type of curve\n",
    "\n",
    "\"\"\"\n",
    "\n",
    "#    start_x = 0\n",
    "#    start_y = 2\n",
    "#    start_z = -1\n",
    "#    start_psi = np.deg2rad(10.0)\n",
    "#    start_gamma = np.deg2rad(-50.0) \n",
    "#    \n",
    "#    end_x = 4\n",
    "#    end_y = 1\n",
    "#    end_z = -2\n",
    "#    end_psi = np.deg2rad(-10.0)\n",
    "#    end_gamma = np.deg2rad(-20.0)\n",
    "\n",
    "Rmin = 1        \n",
    "flag = 1\n",
    "\n",
    "\n",
    "try:\n",
    "    px, py, pz, ppsi, pgamma, clen, mode = dubins_3Dpath_planning(start_x, start_y, start_z, start_psi, start_gamma,\n",
    "                                                    end_x, end_y, end_z, end_psi, end_gamma, Rmin)\n",
    "    #print(\"Trajectory Type ---->\",mode,\" and Length ----->\",clen)\n",
    "    fig = plt.figure()\n",
    "    ax = plt.axes(projection='3d')\n",
    "    ax.plot3D(px, py, pz, 'black')\n",
    "    plt.show()\n",
    "except:\n",
    "    print(\"NOT POSSIBLE\")\n",
    "\n",
    "\n",
    "\n",
    "Wptz = []\n",
    "\n",
    "x0 = data['Трасса 1']['Широта'][0]\n",
    "y0 = data['Трасса 1']['Долгота'][0]\n",
    "x0, y0 = get_cartesian(x0, y0)\n",
    "\n",
    "for colum in range(len(data.values) // 2):\n",
    "x = data['Трасса 1']['Широта'][colum]\n",
    "y = data['Трасса 1']['Долгота'][colum]\n",
    "x, y = get_cartesian(x, y)\n",
    "x2 = data['Трасса 1']['Широта'][colum + 1]\n",
    "y2 = data['Трасса 1']['Долгота'][colum + 1]\n",
    "x2, y2 = get_cartesian(x2, y2)\n",
    "azimut = get_azimut([x,y],[x2,y2])\n",
    "x3 = data['Трасса 1']['Широта'][colum + 2]\n",
    "y3 = data['Трасса 1']['Долгота'][colum + 2]\n",
    "x3, y3 = get_cartesian(x3, y3)\n",
    "azimut2 = get_azimut([x2,y2],[x3,y3])\n",
    "Wptz.append(Waypoint(1000*(x - x0), 1000*(y - y0), azimut))\n",
    "Wptz.append(Waypoint(1000*(x2 - x0), 1000*(y2 - y0), azimut2))\n",
    "\n",
    "if len(data.values) % 2 == 1:\n",
    "x2 = data['Трасса 1']['Широта'][len(data.values) - 3]\n",
    "y2 = data['Трасса 1']['Долгота'][len(data.values) - 3]\n",
    "x = data['Трасса 1']['Широта'][len(data.values) - 2]\n",
    "y = data['Трасса 1']['Долгота'][len(data.values) - 2]\n",
    "x, y = get_cartesian(x, y)\n",
    "azimut = get_azimut([x2,y2],[x,y])\n",
    "Wptz.append(Waypoint(1000*(x - x0), 1000*(y - y0), azimut))\n",
    "\n",
    "print(len(Wptz))\n",
    "\n",
    "# Run the code\n",
    "i = 0\n",
    "while i<len(Wptz)-1:\n",
    "param = calcDubinsPath(Wptz[i], Wptz[i+1], 20, 30)\n",
    "path = dubins_traj(param,1)\n",
    "# Plot the results\n",
    "plt.plot3D(Wptz[i].x,Wptz[i].y,'kx')\n",
    "plt.plot3D(Wptz[i+1].x,Wptz[i+1].y,'kx')\n",
    "plt.plot3D(path[:,0],path[:,1],10*path[:,2],'b-')\n",
    "i+=1\n",
    "\n",
    "plt.grid(True)\n",
    "plt.axis(\"equal\")\n",
    "#plt.title('Dubin\\'s Curves Trajectory Generation')\n",
    "#plt.xlabel('X')\n",
    "#plt.ylabel('Y')\n",
    "#plt.show()\n"
   ]
  }
 ],
 "metadata": {
  "kernelspec": {
   "display_name": "base",
   "language": "python",
   "name": "python3"
  },
  "language_info": {
   "codemirror_mode": {
    "name": "ipython",
    "version": 3
   },
   "file_extension": ".py",
   "mimetype": "text/x-python",
   "name": "python",
   "nbconvert_exporter": "python",
   "pygments_lexer": "ipython3",
   "version": "3.11.3"
  }
 },
 "nbformat": 4,
 "nbformat_minor": 2
}
