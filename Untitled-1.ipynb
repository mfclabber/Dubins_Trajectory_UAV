{
 "cells": [
  {
   "cell_type": "code",
   "execution_count": 3,
   "metadata": {},
   "outputs": [
    {
     "name": "stderr",
     "output_type": "stream",
     "text": [
      "C:\\Users\\Dmitriy Novichkov\\AppData\\Local\\Temp\\ipykernel_9876\\4080754483.py:16: FutureWarning: this method is deprecated in favour of `Styler.hide(axis=\"index\")`\n",
      "  display(data.head().style.hide_index())\n"
     ]
    },
    {
     "data": {
      "text/html": [
       "<style type=\"text/css\">\n",
       "</style>\n",
       "<table id=\"T_588d7\">\n",
       "  <thead>\n",
       "    <tr>\n",
       "      <th id=\"T_588d7_level0_col0\" class=\"col_heading level0 col0\" ></th>\n",
       "      <th id=\"T_588d7_level0_col1\" class=\"col_heading level0 col1\" colspan=\"2\">Трасса 1</th>\n",
       "      <th id=\"T_588d7_level0_col3\" class=\"col_heading level0 col3\" colspan=\"2\">Трасса 2</th>\n",
       "    </tr>\n",
       "    <tr>\n",
       "      <th id=\"T_588d7_level1_col0\" class=\"col_heading level1 col0\" >№</th>\n",
       "      <th id=\"T_588d7_level1_col1\" class=\"col_heading level1 col1\" >Широта</th>\n",
       "      <th id=\"T_588d7_level1_col2\" class=\"col_heading level1 col2\" >Долгота</th>\n",
       "      <th id=\"T_588d7_level1_col3\" class=\"col_heading level1 col3\" >Широта</th>\n",
       "      <th id=\"T_588d7_level1_col4\" class=\"col_heading level1 col4\" >Долгота</th>\n",
       "    </tr>\n",
       "  </thead>\n",
       "  <tbody>\n",
       "    <tr>\n",
       "      <td id=\"T_588d7_row0_col0\" class=\"data row0 col0\" >1</td>\n",
       "      <td id=\"T_588d7_row0_col1\" class=\"data row0 col1\" >56.142020</td>\n",
       "      <td id=\"T_588d7_row0_col2\" class=\"data row0 col2\" >35.005040</td>\n",
       "      <td id=\"T_588d7_row0_col3\" class=\"data row0 col3\" >56.141050</td>\n",
       "      <td id=\"T_588d7_row0_col4\" class=\"data row0 col4\" >35.002670</td>\n",
       "    </tr>\n",
       "    <tr>\n",
       "      <td id=\"T_588d7_row1_col0\" class=\"data row1 col0\" >2</td>\n",
       "      <td id=\"T_588d7_row1_col1\" class=\"data row1 col1\" >56.144530</td>\n",
       "      <td id=\"T_588d7_row1_col2\" class=\"data row1 col2\" >35.005360</td>\n",
       "      <td id=\"T_588d7_row1_col3\" class=\"data row1 col3\" >56.138170</td>\n",
       "      <td id=\"T_588d7_row1_col4\" class=\"data row1 col4\" >35.009470</td>\n",
       "    </tr>\n",
       "    <tr>\n",
       "      <td id=\"T_588d7_row2_col0\" class=\"data row2 col0\" >3</td>\n",
       "      <td id=\"T_588d7_row2_col1\" class=\"data row2 col1\" >56.146140</td>\n",
       "      <td id=\"T_588d7_row2_col2\" class=\"data row2 col2\" >35.011570</td>\n",
       "      <td id=\"T_588d7_row2_col3\" class=\"data row2 col3\" >56.140760</td>\n",
       "      <td id=\"T_588d7_row2_col4\" class=\"data row2 col4\" >35.013690</td>\n",
       "    </tr>\n",
       "    <tr>\n",
       "      <td id=\"T_588d7_row3_col0\" class=\"data row3 col0\" >4</td>\n",
       "      <td id=\"T_588d7_row3_col1\" class=\"data row3 col1\" >56.142890</td>\n",
       "      <td id=\"T_588d7_row3_col2\" class=\"data row3 col2\" >35.012490</td>\n",
       "      <td id=\"T_588d7_row3_col3\" class=\"data row3 col3\" >56.139820</td>\n",
       "      <td id=\"T_588d7_row3_col4\" class=\"data row3 col4\" >35.006550</td>\n",
       "    </tr>\n",
       "    <tr>\n",
       "      <td id=\"T_588d7_row4_col0\" class=\"data row4 col0\" >5</td>\n",
       "      <td id=\"T_588d7_row4_col1\" class=\"data row4 col1\" >56.142920</td>\n",
       "      <td id=\"T_588d7_row4_col2\" class=\"data row4 col2\" >35.003780</td>\n",
       "      <td id=\"T_588d7_row4_col3\" class=\"data row4 col3\" >56.141000</td>\n",
       "      <td id=\"T_588d7_row4_col4\" class=\"data row4 col4\" >35.009380</td>\n",
       "    </tr>\n",
       "  </tbody>\n",
       "</table>\n"
      ],
      "text/plain": [
       "<pandas.io.formats.style.Styler at 0x23b854d2090>"
      ]
     },
     "metadata": {},
     "output_type": "display_data"
    }
   ],
   "source": [
    "import pandas as pd\n",
    "\n",
    "# Load the xlsx file\n",
    "cols = [('', '№'),\n",
    "        ('Трасса 1', 'Широта'),\n",
    "        ('Трасса 1', 'Долгота'),\n",
    "        ('Трасса 2', 'Широта'),\n",
    "        ('Трасса 2', 'Долгота')]\n",
    "\n",
    "custom_multicols = pd.MultiIndex.from_tuples(cols)\n",
    "excel_data = pd.read_excel('трасса.xlsx', header = None, names = cols, skiprows= [0] )\n",
    "\n",
    "#to Frame\n",
    "data = pd.DataFrame(excel_data)\n",
    "# Print the content\n",
    "display(data.head().style.hide_index())\n"
   ]
  },
  {
   "cell_type": "code",
   "execution_count": 2,
   "metadata": {},
   "outputs": [
    {
     "ename": "ModuleNotFoundError",
     "evalue": "No module named 'pyproj'",
     "output_type": "error",
     "traceback": [
      "\u001b[1;31m---------------------------------------------------------------------------\u001b[0m",
      "\u001b[1;31mModuleNotFoundError\u001b[0m                       Traceback (most recent call last)",
      "\u001b[1;32mc:\\Users\\Dmitriy Novichkov\\Desktop\\VTOL Navigation\\Untitled-1.ipynb Cell 2\u001b[0m line \u001b[0;36m1\n\u001b[1;32m----> <a href='vscode-notebook-cell:/c%3A/Users/Dmitriy%20Novichkov/Desktop/VTOL%20Navigation/Untitled-1.ipynb#W1sZmlsZQ%3D%3D?line=0'>1</a>\u001b[0m \u001b[39mimport\u001b[39;00m \u001b[39mpyproj\u001b[39;00m\n\u001b[0;32m      <a href='vscode-notebook-cell:/c%3A/Users/Dmitriy%20Novichkov/Desktop/VTOL%20Navigation/Untitled-1.ipynb#W1sZmlsZQ%3D%3D?line=2'>3</a>\u001b[0m \u001b[39m# создаем объект класса Transformer для преобразования координат\u001b[39;00m\n\u001b[0;32m      <a href='vscode-notebook-cell:/c%3A/Users/Dmitriy%20Novichkov/Desktop/VTOL%20Navigation/Untitled-1.ipynb#W1sZmlsZQ%3D%3D?line=3'>4</a>\u001b[0m transformer \u001b[39m=\u001b[39m pyproj\u001b[39m.\u001b[39mTransformer\u001b[39m.\u001b[39mfrom_crs(\u001b[39m\"\u001b[39m\u001b[39mEPSG:4326\u001b[39m\u001b[39m\"\u001b[39m, \u001b[39m\"\u001b[39m\u001b[39mEPSG:3857\u001b[39m\u001b[39m\"\u001b[39m, always_xy\u001b[39m=\u001b[39m\u001b[39mTrue\u001b[39;00m)\n",
      "\u001b[1;31mModuleNotFoundError\u001b[0m: No module named 'pyproj'"
     ]
    }
   ],
   "source": [
    "\n",
    "# Пока не нужно запускать, т.к это еще не понятно, какие координаты нам нужны\n",
    "import pyproj\n",
    "\n",
    "# создаем объект класса Transformer для преобразования координат\n",
    "transformer = pyproj.Transformer.from_crs(\"EPSG:4326\", \"EPSG:3857\", always_xy=True)\n",
    "\n",
    "# задаем координаты точки в геодезической системе\n",
    "lon, lat = 30.3180, 59.9375\n",
    "\n",
    "# преобразуем координаты в систему Гаусса-Крюгера\n",
    "easting, northing = transformer.transform(lon, lat)\n",
    "\n",
    "print(f\"Координаты в системе Гаусса-Крюгера: ({easting}м, {northing}м)\")"
   ]
  },
  {
   "cell_type": "code",
   "execution_count": 10,
   "metadata": {},
   "outputs": [
    {
     "name": "stdout",
     "output_type": "stream",
     "text": [
      "[3085.3176815979073, 1781.3089940060636]\n"
     ]
    }
   ],
   "source": [
    "import numpy as np\n",
    "\n",
    "def get_cartesian(lat=None,lon=None):\n",
    "    lat, lon = np.deg2rad(lat), np.deg2rad(lon)\n",
    "    R = 6371 # radius of the earth\n",
    "    x = R * np.cos(lat) * np.cos(lon)\n",
    "    y = R * np.cos(lat) * np.sin(lon)\n",
    "    z = R *np.sin(lat)\n",
    "    return [x,y]\n",
    "print(get_cartesian(56.0,30.0))"
   ]
  },
  {
   "cell_type": "code",
   "execution_count": 19,
   "metadata": {},
   "outputs": [
    {
     "name": "stdout",
     "output_type": "stream",
     "text": [
      "No RLR Path\n",
      "No LRL Path\n",
      "No RLR Path\n",
      "No LRL Path\n"
     ]
    },
    {
     "data": {
      "image/png": "[encoded data removed]",
      "text/plain": [
       "<Figure size 640x480 with 1 Axes>"
      ]
     },
     "metadata": {},
     "output_type": "display_data"
    }
   ],
   "source": [
    "from dubins_py import*\n",
    "\n",
    "# User's waypoints: [x, y, heading (degrees)]\n",
    "pt1 = Waypoint(0,0,0)\n",
    "pt2 = Waypoint(150,35,0)\n",
    "pt3 = Waypoint(100,150,180)\n",
    "pt4 = Waypoint(0,0,270)\n",
    "pt5 = Waypoint(100,100,100)\n",
    "Wptz = [pt1, pt2, pt3]\n",
    "\n",
    "'''Структура путевой точки имеет вид (x, y, psi), где \n",
    "   Psi — азимут в координатах NED (на север = 0 градусов).\n",
    "\n",
    "Wptz = []\n",
    "for colum in range(len(data.values) - 1):\n",
    "    x = data['Трасса 1']['Широта'][colum]\n",
    "    y = data['Трасса 1']['Долгота'][colum]\n",
    "    x, y = get_cartesian(x, y)\n",
    "    Wptz.append(Waypoint(x, y, colum + 20))\n",
    "'''  \n",
    "\n",
    "# Run the code\n",
    "i = 0\n",
    "while i<len(Wptz)-1:\n",
    "    param = calcDubinsPath(Wptz[i], Wptz[i+1], 10, 20)\n",
    "    path = dubins_traj(param,1)\n",
    "\n",
    "    # Plot the results\n",
    "    plt.plot(Wptz[i].x,Wptz[i].y,'kx')\n",
    "    plt.plot(Wptz[i+1].x,Wptz[i+1].y,'kx')\n",
    "    plt.plot(path[:,0],path[:,1],'b-')\n",
    "    i+=1\n",
    "\n",
    "plt.grid(True)\n",
    "plt.axis(\"equal\")\n",
    "plt.title('Dubin\\'s Curves Trajectory Generation')\n",
    "plt.xlabel('X')\n",
    "plt.ylabel('Y')\n",
    "plt.show()\n"
   ]
  }
 ],
 "metadata": {
  "kernelspec": {
   "display_name": "base",
   "language": "python",
   "name": "python3"
  },
  "language_info": {
   "codemirror_mode": {
    "name": "ipython",
    "version": 3
   },
   "file_extension": ".py",
   "mimetype": "text/x-python",
   "name": "python",
   "nbconvert_exporter": "python",
   "pygments_lexer": "ipython3",
   "version": "3.11.3"
  },
  "orig_nbformat": 4
 },
 "nbformat": 4,
 "nbformat_minor": 2
}
