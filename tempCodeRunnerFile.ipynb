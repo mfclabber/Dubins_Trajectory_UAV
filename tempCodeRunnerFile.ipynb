x = data['Трасса 1']['Широта'][colum]
y = data['Трасса 1']['Долгота'][colum]
x, y = get_cartesian(x, y)
x2 = data['Трасса 1']['Широта'][colum + 1]
y2 = data['Трасса 1']['Долгота'][colum + 1]
x2, y2 = get_cartesian(x2, y2)
azimut = get_azimut([x,y],[x2,y2])
x3 = data['Трасса 1']['Широта'][colum + 2]
y3 = data['Трасса 1']['Долгота'][colum + 2]
x3, y3 = get_cartesian(x3, y3)
azimut2 = get_azimut([x2,y2],[x3,y3])
Wptz.append(Waypoint(1000*(x - x0), 1000*(y - y0), azimut))
Wptz.append(Waypoint(1000*(x2 - x0), 1000*(y - y2), azimut2))